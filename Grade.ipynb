{
 "cells": [
  {
   "attachments": {},
   "cell_type": "markdown",
   "metadata": {},
   "source": [
    "#   Base Tubo Google Sheets"
   ]
  },
  {
   "cell_type": "code",
   "execution_count": 29,
   "metadata": {},
   "outputs": [
    {
     "data": {
      "text/html": [
       "<div>\n",
       "<style scoped>\n",
       "    .dataframe tbody tr th:only-of-type {\n",
       "        vertical-align: middle;\n",
       "    }\n",
       "\n",
       "    .dataframe tbody tr th {\n",
       "        vertical-align: top;\n",
       "    }\n",
       "\n",
       "    .dataframe thead th {\n",
       "        text-align: right;\n",
       "    }\n",
       "</style>\n",
       "<table border=\"1\" class=\"dataframe\">\n",
       "  <thead>\n",
       "    <tr style=\"text-align: right;\">\n",
       "      <th></th>\n",
       "      <th>Data Coleta</th>\n",
       "      <th>Planilha</th>\n",
       "      <th>Hora Coleta</th>\n",
       "      <th>Veículo</th>\n",
       "      <th>Modal</th>\n",
       "      <th>Transportadora</th>\n",
       "      <th>Volumes</th>\n",
       "    </tr>\n",
       "  </thead>\n",
       "  <tbody>\n",
       "    <tr>\n",
       "      <th>0</th>\n",
       "      <td>2023-02-08</td>\n",
       "      <td>3891286</td>\n",
       "      <td>08:00:00</td>\n",
       "      <td>FRACIONADO</td>\n",
       "      <td>LTL</td>\n",
       "      <td>Rápido Figueiredo</td>\n",
       "      <td>289</td>\n",
       "    </tr>\n",
       "    <tr>\n",
       "      <th>1</th>\n",
       "      <td>2023-02-08</td>\n",
       "      <td>3891282</td>\n",
       "      <td>12:00:00</td>\n",
       "      <td>FRACIONADO</td>\n",
       "      <td>LTL</td>\n",
       "      <td>SR LOG</td>\n",
       "      <td>374</td>\n",
       "    </tr>\n",
       "    <tr>\n",
       "      <th>2</th>\n",
       "      <td>2023-02-08</td>\n",
       "      <td>3891295</td>\n",
       "      <td>12:00:00</td>\n",
       "      <td>FRACIONADO</td>\n",
       "      <td>LTL</td>\n",
       "      <td>VDC</td>\n",
       "      <td>74</td>\n",
       "    </tr>\n",
       "    <tr>\n",
       "      <th>3</th>\n",
       "      <td>2023-02-08</td>\n",
       "      <td>3891094</td>\n",
       "      <td>14:30:00</td>\n",
       "      <td>FRACIONADO</td>\n",
       "      <td>LTL</td>\n",
       "      <td>Eucatur</td>\n",
       "      <td>193</td>\n",
       "    </tr>\n",
       "    <tr>\n",
       "      <th>4</th>\n",
       "      <td>2023-02-08</td>\n",
       "      <td>3891090</td>\n",
       "      <td>15:00:00</td>\n",
       "      <td>FRACIONADO</td>\n",
       "      <td>LTL</td>\n",
       "      <td>Rede Sul</td>\n",
       "      <td>367</td>\n",
       "    </tr>\n",
       "    <tr>\n",
       "      <th>...</th>\n",
       "      <td>...</td>\n",
       "      <td>...</td>\n",
       "      <td>...</td>\n",
       "      <td>...</td>\n",
       "      <td>...</td>\n",
       "      <td>...</td>\n",
       "      <td>...</td>\n",
       "    </tr>\n",
       "    <tr>\n",
       "      <th>89</th>\n",
       "      <td>2023-02-09</td>\n",
       "      <td>3891479</td>\n",
       "      <td>11:00:00</td>\n",
       "      <td>TRUCK</td>\n",
       "      <td>FTL</td>\n",
       "      <td>FTL</td>\n",
       "      <td>722</td>\n",
       "    </tr>\n",
       "    <tr>\n",
       "      <th>90</th>\n",
       "      <td>2023-02-09</td>\n",
       "      <td>3891422</td>\n",
       "      <td>11:00:00</td>\n",
       "      <td>VAN</td>\n",
       "      <td>FTL</td>\n",
       "      <td>FTL</td>\n",
       "      <td>172</td>\n",
       "    </tr>\n",
       "    <tr>\n",
       "      <th>91</th>\n",
       "      <td>2023-02-09</td>\n",
       "      <td>3891163</td>\n",
       "      <td>14:00:00</td>\n",
       "      <td>CLIENTE RETIRA</td>\n",
       "      <td>RET</td>\n",
       "      <td>ILENDER</td>\n",
       "      <td>20</td>\n",
       "    </tr>\n",
       "    <tr>\n",
       "      <th>92</th>\n",
       "      <td>2023-02-09</td>\n",
       "      <td>3892443</td>\n",
       "      <td>08:30:00</td>\n",
       "      <td>CARRETA</td>\n",
       "      <td>XD</td>\n",
       "      <td>BA</td>\n",
       "      <td>2941</td>\n",
       "    </tr>\n",
       "    <tr>\n",
       "      <th>93</th>\n",
       "      <td>2023-02-09</td>\n",
       "      <td>3892446</td>\n",
       "      <td>08:30:00</td>\n",
       "      <td>CARRETA</td>\n",
       "      <td>XD</td>\n",
       "      <td>PE</td>\n",
       "      <td>2812</td>\n",
       "    </tr>\n",
       "  </tbody>\n",
       "</table>\n",
       "<p>85 rows × 7 columns</p>\n",
       "</div>"
      ],
      "text/plain": [
       "   Data Coleta  Planilha Hora Coleta          Veículo Modal  \\\n",
       "0   2023-02-08   3891286    08:00:00       FRACIONADO   LTL   \n",
       "1   2023-02-08   3891282    12:00:00       FRACIONADO   LTL   \n",
       "2   2023-02-08   3891295    12:00:00       FRACIONADO   LTL   \n",
       "3   2023-02-08   3891094    14:30:00       FRACIONADO   LTL   \n",
       "4   2023-02-08   3891090    15:00:00       FRACIONADO   LTL   \n",
       "..         ...       ...         ...              ...   ...   \n",
       "89  2023-02-09   3891479    11:00:00            TRUCK   FTL   \n",
       "90  2023-02-09   3891422    11:00:00              VAN   FTL   \n",
       "91  2023-02-09   3891163    14:00:00  CLIENTE RETIRA    RET   \n",
       "92  2023-02-09   3892443    08:30:00          CARRETA    XD   \n",
       "93  2023-02-09   3892446    08:30:00          CARRETA    XD   \n",
       "\n",
       "       Transportadora  Volumes  \n",
       "0   Rápido Figueiredo      289  \n",
       "1              SR LOG      374  \n",
       "2                 VDC       74  \n",
       "3             Eucatur      193  \n",
       "4            Rede Sul      367  \n",
       "..                ...      ...  \n",
       "89                FTL      722  \n",
       "90                FTL      172  \n",
       "91           ILENDER        20  \n",
       "92                 BA     2941  \n",
       "93                 PE     2812  \n",
       "\n",
       "[85 rows x 7 columns]"
      ]
     },
     "execution_count": 29,
     "metadata": {},
     "output_type": "execute_result"
    }
   ],
   "source": [
    "import pandas as pd\n",
    "Base = pd.read_excel(\"https://docs.google.com/spreadsheets/d/1Vn_Dvy59N45ZJ6cVOIZHG1LcHChLMORqYduuLMrRajM/export?format=xlsx\",sheet_name=\"Expedição\")\n",
    "Index_Tubo = ['Data Coleta','Planilha','Hora Coleta','Veículo','Modal','Transportadora','Volumes']\n",
    "\n",
    "Base =Base[Index_Tubo]\n",
    "Base['Planilha'] = Base['Planilha'].fillna(0)\n",
    "Base[['Planilha','Volumes']] =Base[['Planilha','Volumes']].astype(int)\n",
    "Base= Base.loc[(Base['Veículo']!='EXPORTAÇÃO')&(Base['Veículo']!='HUMANA')&(Base['Veículo']!='HUMANA')\n",
    "               &(Base['Veículo']!='CLIENTE RETIRA')&(Base['Planilha']!=0)]\n",
    "Base\n"
   ]
  },
  {
   "cell_type": "code",
   "execution_count": null,
   "metadata": {},
   "outputs": [],
   "source": []
  },
  {
   "attachments": {},
   "cell_type": "markdown",
   "metadata": {},
   "source": [
    "# BASE 345"
   ]
  },
  {
   "cell_type": "code",
   "execution_count": 30,
   "metadata": {},
   "outputs": [
    {
     "data": {
      "text/plain": [
       "{'encoding': None, 'confidence': 0.0, 'language': None}"
      ]
     },
     "execution_count": 30,
     "metadata": {},
     "output_type": "execute_result"
    }
   ],
   "source": [
    "import chardet\n",
    "file ='C:/Users/luan.carvalho/OneDrive - Solistica/GESTÃO DE PEDIDOS/Aderencia de Grade/345.xlsx'\n",
    "with open(file, 'rb') as rawdata:\n",
    "    result = chardet.detect(rawdata.read(100000))\n",
    "result"
   ]
  },
  {
   "cell_type": "code",
   "execution_count": 31,
   "metadata": {},
   "outputs": [],
   "source": [
    "import pandas as pd\n",
    "Base345 =  pd.read_excel(file)\n",
    "Base345['VOL./ST.'] =Base345['VOL./ST.'].fillna(0)\n",
    "Base345[['Planilha','CTE','Nota/Pedido','VOL./ST.']] = Base345[['Planilha','CTE','Nota/Pedido','VOL./ST.']].astype(int)\n"
   ]
  },
  {
   "attachments": {},
   "cell_type": "markdown",
   "metadata": {},
   "source": [
    "# MARGE DATAFRAMES\n"
   ]
  },
  {
   "cell_type": "code",
   "execution_count": 32,
   "metadata": {},
   "outputs": [],
   "source": [
    "import pandas as pd\n",
    "Base_Oficial=  pd.merge(Base,Base345,on=\"Planilha\",how=\"left\")\n",
    "#Base_Oficial.columns\n",
    "index_Base_ofocial= ['Data Coleta', 'Planilha', 'Hora Coleta', 'Veículo', 'Modal',\n",
    "       'Desc C.c', 'Nota/Pedido','Transportadora','Desc_Status', 'Setores','VOL./ST.']\n",
    "Base_Oficial=Base_Oficial[index_Base_ofocial]"
   ]
  },
  {
   "cell_type": "code",
   "execution_count": 33,
   "metadata": {},
   "outputs": [],
   "source": [
    "Setores =Base_Oficial.groupby(['Planilha','Data Coleta', 'Hora Coleta','Modal','Transportadora','Setores','Desc_Status'\n",
    "                             ],as_index=False)['VOL./ST.'].sum()\n"
   ]
  },
  {
   "cell_type": "code",
   "execution_count": 34,
   "metadata": {},
   "outputs": [],
   "source": [
    "Setores =Setores.pivot_table(values= 'VOL./ST.',index=['Planilha','Data Coleta', 'Hora Coleta','Modal','Transportadora','Setores'],columns='Desc_Status',fill_value=0)\n"
   ]
  },
  {
   "cell_type": "code",
   "execution_count": 35,
   "metadata": {},
   "outputs": [
    {
     "data": {
      "text/plain": [
       "10358"
      ]
     },
     "execution_count": 35,
     "metadata": {},
     "output_type": "execute_result"
    }
   ],
   "source": [
    "Setores['Vol. Produzidos'].sum()"
   ]
  }
 ],
 "metadata": {
  "kernelspec": {
   "display_name": "base",
   "language": "python",
   "name": "python3"
  },
  "language_info": {
   "codemirror_mode": {
    "name": "ipython",
    "version": 3
   },
   "file_extension": ".py",
   "mimetype": "text/x-python",
   "name": "python",
   "nbconvert_exporter": "python",
   "pygments_lexer": "ipython3",
   "version": "3.9.12"
  },
  "orig_nbformat": 4,
  "vscode": {
   "interpreter": {
    "hash": "40651dd511681912d6eb1c88bcca9351bbaaa6366f4790d684148cf7cbef7906"
   }
  }
 },
 "nbformat": 4,
 "nbformat_minor": 2
}
